{
 "cells": [
  {
   "cell_type": "code",
   "execution_count": 5,
   "metadata": {},
   "outputs": [],
   "source": [
    "import hashlib\n",
    "import os \n",
    "import json\n",
    "from datetime import datetime\n",
    "from flask import Flask"
   ]
  },
  {
   "cell_type": "code",
   "execution_count": 6,
   "metadata": {},
   "outputs": [],
   "source": [
    "class Block(object):\n",
    "    def __init__(self, dictionary):\n",
    "        # init index, timestamp, data, prev_hash, nonce\n",
    "        for k, v in dictionary.items():\n",
    "            setattr(self, k, v)\n",
    "        \n",
    "        if not hasattr(self, \"nonce\"):\n",
    "            self.nonce = \"None\"\n",
    "        if not hasattr(self, \"hash\"):\n",
    "            self.hash = self.create_self_hash()\n",
    "\n",
    "    def header_string(self):\n",
    "        return str(self.index) + self.prev_hash + self.data + str(self.timestamp) + str(self.nonce)\n",
    "    \n",
    "    def create_self_hash(self):\n",
    "        sha = hashlib.sha256()\n",
    "        sha.update(self.header_string().encode(\"utf-8\"))\n",
    "        return sha.hexdigest()\n",
    "    \n",
    "    def self_save(self):\n",
    "        chaindata_dir = \"chaindata\"\n",
    "        index_string = str(self.index).zfill(6)\n",
    "        filename = \"%s/%s.json\" % (chaindata_dir, index_string)\n",
    "        with open(filename, \"w\") as block_file:\n",
    "            json.dump(self.__dict__(), block_file)\n",
    "\n",
    "    def __dict__(self):\n",
    "        info = {}\n",
    "        info[\"index\"] = str(self.index)\n",
    "        info[\"timestamp\"] = str(self.timestamp)\n",
    "        info[\"prev_hash\"] = str(self.prev_hash)\n",
    "        info[\"hash\"] = str(self.hash)\n",
    "        info[\"data\"] = str(self.data)\n",
    "        info[\"nonce\"] = str(self.nonce)\n",
    "        return info\n",
    "\n",
    "    def __str__(self):\n",
    "        return \"Block<prev_hash: %s, hash: %s>\" % (self.prev_hash, self.hash)"
   ]
  },
  {
   "cell_type": "code",
   "execution_count": 7,
   "metadata": {},
   "outputs": [],
   "source": [
    "def create_genesis_block():\n",
    "    block_data = {}\n",
    "    block_data[\"index\"] = 0\n",
    "    block_data[\"timestamp\"] = datetime.now()\n",
    "    block_data[\"data\"] = \"Genesis Block Data\"\n",
    "    block_data[\"prev_hash\"] = \"\"\n",
    "    block_data[\"nonce\"] = 0\n",
    "    return Block(block_data)\n",
    "\n",
    "NUM_ZEROS = 4\n",
    "def mine(last_block):\n",
    "    block_data = {}\n",
    "    block_data[\"index\"] = int(last_block.index) + 1\n",
    "    block_data[\"timestamp\"] = datetime.now()\n",
    "    block_data[\"data\"] = \"Block #%s\" % (int(last_block.index) + 1)\n",
    "    block_data[\"prev_hash\"] = last_block.hash\n",
    "    block_data[\"nonce\"] = 0\n",
    "\n",
    "    tmp_block = Block(block_data)\n",
    "    while str(tmp_block.hash[0:NUM_ZEROS]) != '0' * NUM_ZEROS:\n",
    "        block_data[\"nonce\"] += 1\n",
    "        tmp_block = Block(block_data)\n",
    "\n",
    "    #dictionary to create the new block object.\n",
    "    block_data = {}\n",
    "    block_data['index'] = index\n",
    "    block_data['prev_hash'] = last_block.hash\n",
    "    block_data['timestamp'] = timestamp\n",
    "    block_data['data'] = \"Gimme %s dollars\" % index\n",
    "    block_data['hash'] = block_hash\n",
    "    block_data['nonce'] = nonce\n",
    "    return Block(block_data)"
   ]
  },
  {
   "cell_type": "code",
   "execution_count": null,
   "metadata": {},
   "outputs": [],
   "source": [
    "def sync():\n",
    "    node_blocks = []\n",
    "    # Assuming that the folder and at least initial block exists\n",
    "    chaindata_dir = 'chaindata'\n",
    "    if os.path.exists(chaindata_dir):\n",
    "        for filename in os.listdir(chaindata_dir):\n",
    "            if filename.endswith('.json'):\n",
    "                filepath = '%s/%s' % (chaindata_dir, filename)\n",
    "                with open(filepath, 'r') as block_file:\n",
    "                    block_info = json.load(block_file)\n",
    "                    block_object = Block(block_info)\n",
    "                    node_blocks.append(block_object)\n",
    "    return node_blocks"
   ]
  },
  {
   "cell_type": "code",
   "execution_count": null,
   "metadata": {},
   "outputs": [],
   "source": [
    "node = Flask(__name__)\n",
    "@node.route('/blockchain.json', methods=['GET'])\n",
    "def blockchain_display():\n",
    "    node_blocks = sync()\n",
    "    # Convert our blocks into dictionaries\n",
    "    # so we can send them as json objects later\n",
    "    python_blocks = []\n",
    "    for block in node_blocks:\n",
    "        python_blocks.append(block.__dict__())\n",
    "        \n",
    "    json_blocks = json.dumps(python_blocks)\n",
    "    return json_blocks"
   ]
  },
  {
   "cell_type": "code",
   "execution_count": 8,
   "metadata": {},
   "outputs": [
    {
     "name": "stdout",
     "output_type": "stream",
     "text": [
      " * Serving Flask app \"__main__\" (lazy loading)\n",
      " * Environment: production\n",
      "\u001b[31m   WARNING: This is a development server. Do not use it in a production deployment.\u001b[0m\n",
      "\u001b[2m   Use a production WSGI server instead.\u001b[0m\n",
      " * Debug mode: off\n"
     ]
    },
    {
     "name": "stderr",
     "output_type": "stream",
     "text": [
      " * Running on http://127.0.0.1:5000/ (Press CTRL+C to quit)\n",
      "127.0.0.1 - - [17/May/2022 12:35:56] \"GET /blockchain.json HTTP/1.1\" 200 -\n"
     ]
    }
   ],
   "source": [
    "if __name__ == \"__main__\":\n",
    "    chaindata_dir = \"chaindata\"\n",
    "    os.makedirs(chaindata_dir, exist_ok=True)\n",
    "    if os.listdir(chaindata_dir) == []:\n",
    "        genesis_block = create_genesis_block()\n",
    "        genesis_block.self_save()\n",
    "    \n",
    "    node.run()\n"
   ]
  }
 ],
 "metadata": {
  "interpreter": {
   "hash": "0545e15c996ecf48e1e3d28b66a6a48da4e04377aa17625e15a57d735a18696c"
  },
  "kernelspec": {
   "display_name": "Python 3.8.8 ('base')",
   "language": "python",
   "name": "python3"
  },
  "language_info": {
   "codemirror_mode": {
    "name": "ipython",
    "version": 3
   },
   "file_extension": ".py",
   "mimetype": "text/x-python",
   "name": "python",
   "nbconvert_exporter": "python",
   "pygments_lexer": "ipython3",
   "version": "3.8.8"
  },
  "orig_nbformat": 4
 },
 "nbformat": 4,
 "nbformat_minor": 2
}
